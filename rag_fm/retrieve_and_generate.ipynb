{
 "cells": [
  {
   "cell_type": "code",
   "execution_count": 12,
   "id": "ce646858-28fc-4d29-b2be-0cf89aa8239c",
   "metadata": {},
   "outputs": [
    {
     "data": {
      "text/plain": [
       "True"
      ]
     },
     "execution_count": 12,
     "metadata": {},
     "output_type": "execute_result"
    }
   ],
   "source": [
    "import os\n",
    "import boto3\n",
    "\n",
    "from dotenv import load_dotenv\n",
    "load_dotenv()"
   ]
  },
  {
   "cell_type": "code",
   "execution_count": 13,
   "id": "fc70c2e7",
   "metadata": {},
   "outputs": [],
   "source": [
    "client = boto3.client('bedrock-agent-runtime',\n",
    "                      region_name = os.getenv(\"AI_SPEC_REGION\"),\n",
    "                      aws_access_key_id = os.getenv(\"AI_SPEC_ACCESS_KEY_ID\"),\n",
    "                      aws_secret_access_key = os.getenv(\"AI_SPEC_SECRET_ACCESS_KEY_ID\"))"
   ]
  },
  {
   "cell_type": "code",
   "execution_count": 16,
   "id": "c0e0119d",
   "metadata": {},
   "outputs": [],
   "source": [
    "knowledge_base_id = os.getenv(\"AI_SPEC_KNOWLEDGE_BASE_ID\")\n",
    "model_arn = None"
   ]
  },
  {
   "cell_type": "code",
   "execution_count": 19,
   "id": "f18f224c",
   "metadata": {},
   "outputs": [],
   "source": [
    "def retrieve_and_generate(input, knowledge_base_id, model_arn):\n",
    "    response = client.retrieve_and_generate(\n",
    "        input = {\n",
    "            'text': input\n",
    "        },\n",
    "        retrieveAndGenerateConfiguration={\n",
    "            'type': 'KNOWLEDGE_BASE',\n",
    "            'knowledgeBaseConfiguration': {\n",
    "                'knowledgeBaseId': knowledge_base_id,\n",
    "                'modelArn': model_arn\n",
    "            }\n",
    "        }\n",
    "    )\n",
    "\n",
    "    return response"
   ]
  },
  {
   "cell_type": "code",
   "execution_count": null,
   "id": "cb916cf5",
   "metadata": {},
   "outputs": [],
   "source": [
    "response = retrieve_and_generate('Give pertinent information regarding the Anthracnose tea leaf disease', knowledge_base_id, model_arn)\n",
    "generated_response = response['output']['text']\n",
    "print(generated_response)"
   ]
  }
 ],
 "metadata": {
  "kernelspec": {
   "display_name": "mind_spore",
   "language": "python",
   "name": "python3"
  },
  "language_info": {
   "codemirror_mode": {
    "name": "ipython",
    "version": 3
   },
   "file_extension": ".py",
   "mimetype": "text/x-python",
   "name": "python",
   "nbconvert_exporter": "python",
   "pygments_lexer": "ipython3",
   "version": "3.9.19"
  }
 },
 "nbformat": 4,
 "nbformat_minor": 5
}

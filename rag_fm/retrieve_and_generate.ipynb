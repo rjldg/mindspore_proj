{
 "cells": [
  {
   "cell_type": "code",
   "execution_count": 10,
   "id": "ce646858-28fc-4d29-b2be-0cf89aa8239c",
   "metadata": {},
   "outputs": [
    {
     "data": {
      "text/plain": [
       "True"
      ]
     },
     "execution_count": 10,
     "metadata": {},
     "output_type": "execute_result"
    }
   ],
   "source": [
    "import os\n",
    "import boto3\n",
    "\n",
    "from dotenv import load_dotenv\n",
    "load_dotenv()"
   ]
  },
  {
   "cell_type": "code",
   "execution_count": 11,
   "id": "fc70c2e7",
   "metadata": {},
   "outputs": [],
   "source": [
    "client = boto3.client('bedrock-agent-runtime',\n",
    "                      region_name = os.getenv(\"AI_SPEC_REGION\"),\n",
    "                      aws_access_key_id = os.getenv(\"AI_SPEC_ACCESS_KEY_ID\"),\n",
    "                      aws_secret_access_key = os.getenv(\"AI_SPEC_SECRET_ACCESS_KEY_ID\"))"
   ]
  },
  {
   "cell_type": "code",
   "execution_count": null,
   "id": "f18f224c",
   "metadata": {},
   "outputs": [],
   "source": []
  }
 ],
 "metadata": {
  "kernelspec": {
   "display_name": "mind_spore",
   "language": "python",
   "name": "python3"
  },
  "language_info": {
   "codemirror_mode": {
    "name": "ipython",
    "version": 3
   },
   "file_extension": ".py",
   "mimetype": "text/x-python",
   "name": "python",
   "nbconvert_exporter": "python",
   "pygments_lexer": "ipython3",
   "version": "3.9.19"
  }
 },
 "nbformat": 4,
 "nbformat_minor": 5
}

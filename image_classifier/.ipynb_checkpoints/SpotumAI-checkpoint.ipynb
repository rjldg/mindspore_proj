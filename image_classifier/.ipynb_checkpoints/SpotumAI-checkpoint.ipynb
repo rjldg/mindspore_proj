{
 "cells": [
  {
   "cell_type": "code",
   "execution_count": 51,
   "id": "4075b2af-9f88-449d-b1bf-aa920971145a",
   "metadata": {},
   "outputs": [],
   "source": [
    "import os\n",
    "import numpy as np\n",
    "import mindspore as ms\n",
    "from mindspore import context, Tensor\n",
    "from mindspore.train import Model\n",
    "from mindspore.train.serialization import load_checkpoint, load_param_into_net\n",
    "from mindspore.dataset.transforms import vision\n",
    "from mindspore.nn import Softmax, Sigmoid\n",
    "from PIL import Image\n",
    "import matplotlib.pyplot as plt\n",
    "\n",
    "from resnet50_arch import resnet50"
   ]
  },
  {
   "cell_type": "code",
   "execution_count": 52,
   "id": "df1e5881-5147-49fd-860a-b6d790cee7ee",
   "metadata": {},
   "outputs": [],
   "source": [
    "cfg = {\n",
    "    'HEIGHT': 224,\n",
    "    'WIDTH': 224,\n",
    "    '_R_MEAN': 123.68,\n",
    "    '_G_MEAN': 116.78,\n",
    "    '_B_MEAN': 103.94,\n",
    "    '_R_STD': 1,\n",
    "    '_G_STD': 1,\n",
    "    '_B_STD': 1,\n",
    "    'num_class': 2, \n",
    "    'model_path': 'best_model.ckpt'\n",
    "}"
   ]
  },
  {
   "cell_type": "code",
   "execution_count": 53,
   "id": "59c0d802-5d4c-4702-95b5-1d8248431508",
   "metadata": {},
   "outputs": [],
   "source": [
    "class_names = {0: 'Normal', 1: 'Tuberculosis'}"
   ]
  },
  {
   "cell_type": "code",
   "execution_count": 54,
   "id": "466c435b-e8e9-4034-8dce-1eaa850a75cc",
   "metadata": {},
   "outputs": [],
   "source": [
    "def preprocess_image(image_path):\n",
    "    \n",
    "    image = Image.open(image_path).convert('RGB')\n",
    "    image = image.resize((cfg['WIDTH'], cfg['HEIGHT']))\n",
    "    image = np.array(image).astype(np.float32)\n",
    "    \n",
    "    # Normalize the image\n",
    "    image = (image - [cfg['_R_MEAN'], cfg['_G_MEAN'], cfg['_B_MEAN']]) / [cfg['_R_STD'], cfg['_G_STD'], cfg['_B_STD']]\n",
    "    image = np.transpose(image, (2, 0, 1))\n",
    "    image = np.expand_dims(image, axis=0) \n",
    "    \n",
    "    return Tensor(image, ms.float32)\n",
    "\n",
    "def load_model():\n",
    "\n",
    "    net = resnet50(class_num=cfg['num_class'])\n",
    "    \n",
    "    param_dict = load_checkpoint(cfg['model_path'])\n",
    "    load_param_into_net(net, param_dict)\n",
    "    \n",
    "    model = Model(net)\n",
    "    \n",
    "    return model\n",
    "\n",
    "def predict(image_path):\n",
    "\n",
    "    image = preprocess_image(image_path)\n",
    "    model = load_model()\n",
    "\n",
    "    # Predict and calculate confidence level\n",
    "    output = model.predict(image)\n",
    "    softmax = Softmax()\n",
    "    probabilities = softmax(output).asnumpy()\n",
    "    predicted_class = np.argmax(probabilities, axis=1)[0]\n",
    "    \n",
    "    return class_names[predicted_class], probabilities[0][predicted_class]\n",
    "\n",
    "def spotum_AI(image_path):\n",
    "\n",
    "    predicted_class, confidence = predict(image_path)\n",
    "    \n",
    "    print(f\"Prediction: {predicted_class}\")\n",
    "    print(f\"Confidence: {confidence:.2f}\")\n",
    "\n",
    "    # Dispaly the results accordingly\n",
    "    image = Image.open(image_path)\n",
    "    plt.imshow(image)\n",
    "    plt.title(f\"Predicted: {predicted_class} ({confidence:.2f})\")\n",
    "    plt.axis('off')\n",
    "    plt.show()"
   ]
  },
  {
   "cell_type": "code",
   "execution_count": null,
   "id": "1ab4d595-3632-4251-b7fc-0de26dc5d41d",
   "metadata": {},
   "outputs": [
    {
     "name": "stdout",
     "output_type": "stream",
     "text": [
      "****************************************************************** SPOTUM AI ******************************************************************\n",
      "\n"
     ]
    }
   ],
   "source": [
    "\n",
    "if __name__ == '__main__':\n",
    "    print(\"****************************************************************** SPOTUM AI ******************************************************************\\n\");\n",
    "    image_path = input(\"\\tEnter the filename/path of chest radiography image: \")\n",
    "    if os.path.exists(image_path):\n",
    "        spotum_AI(image_path)\n",
    "        print(\"OK\")\n",
    "    else:\n",
    "        print(f\"Error: File '{image_path}' does not exist.\")"
   ]
  },
  {
   "cell_type": "code",
   "execution_count": null,
   "id": "50be7d89-4643-4e2e-8729-b68f1d795151",
   "metadata": {},
   "outputs": [],
   "source": []
  }
 ],
 "metadata": {
  "kernelspec": {
   "display_name": "Python 3 (ipykernel)",
   "language": "python",
   "name": "python3"
  },
  "language_info": {
   "codemirror_mode": {
    "name": "ipython",
    "version": 3
   },
   "file_extension": ".py",
   "mimetype": "text/x-python",
   "name": "python",
   "nbconvert_exporter": "python",
   "pygments_lexer": "ipython3",
   "version": "3.9.19"
  }
 },
 "nbformat": 4,
 "nbformat_minor": 5
}
